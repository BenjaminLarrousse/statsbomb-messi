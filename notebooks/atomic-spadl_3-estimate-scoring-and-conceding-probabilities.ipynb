{
 "cells": [
  {
   "cell_type": "code",
   "execution_count": 1,
   "metadata": {},
   "outputs": [],
   "source": [
    "%load_ext autoreload\n",
    "%autoreload 2\n",
    "import os; import sys; sys.path.insert(0,'../')\n",
    "import pandas as pd\n",
    "from tqdm.auto import tqdm\n",
    "import warnings\n",
    "warnings.simplefilter(action='ignore', category=pd.errors.PerformanceWarning)"
   ]
  },
  {
   "cell_type": "code",
   "execution_count": 2,
   "metadata": {},
   "outputs": [],
   "source": [
    "import sys\n",
    "sys.path.insert(0, '../../')\n",
    "\n",
    "import atomic.features as fs\n",
    "import atomic.labels as lab"
   ]
  },
  {
   "cell_type": "code",
   "execution_count": 3,
   "metadata": {},
   "outputs": [],
   "source": [
    "## Configure file and folder names\n",
    "datafolder = \"../data/socceraction\"\n",
    "spadl_h5 = os.path.join(datafolder,\"spadl-statsbomb.h5\")\n",
    "features_h5 = os.path.join(datafolder,\"atomic-features.h5\")\n",
    "labels_h5 = os.path.join(datafolder,\"atomic-labels.h5\")\n",
    "predictions_h5 = os.path.join(datafolder,\"atomic-predictions-3-actions.h5\")"
   ]
  },
  {
   "cell_type": "code",
   "execution_count": 4,
   "metadata": {},
   "outputs": [
    {
     "name": "stdout",
     "output_type": "stream",
     "text": [
      "nb of train games and test games: 452 452\n"
     ]
    }
   ],
   "source": [
    "games = pd.read_hdf(spadl_h5,\"games\")\n",
    "traingames = games\n",
    "testgames = games\n",
    "print(\"nb of train games and test games:\", len(traingames),len(testgames))"
   ]
  },
  {
   "cell_type": "code",
   "execution_count": 5,
   "metadata": {
    "scrolled": true
   },
   "outputs": [
    {
     "data": {
      "application/vnd.jupyter.widget-view+json": {
       "model_id": "046df4d14e07412a82f9dce7c603cfb6",
       "version_major": 2,
       "version_minor": 0
      },
      "text/plain": [
       "HBox(children=(FloatProgress(value=0.0, description='selecting features', max=452.0, style=ProgressStyle(descr…"
      ]
     },
     "metadata": {},
     "output_type": "display_data"
    },
    {
     "name": "stdout",
     "output_type": "stream",
     "text": [
      "\n"
     ]
    },
    {
     "data": {
      "application/vnd.jupyter.widget-view+json": {
       "model_id": "82ee11616bcd4136995d0869672f8a77",
       "version_major": 2,
       "version_minor": 0
      },
      "text/plain": [
       "HBox(children=(FloatProgress(value=0.0, description='selecting label', max=452.0, style=ProgressStyle(descript…"
      ]
     },
     "metadata": {},
     "output_type": "display_data"
    },
    {
     "name": "stdout",
     "output_type": "stream",
     "text": [
      "\n",
      "X: ['type_pass_a0', 'type_cross_a0', 'type_throw_in_a0', 'type_freekick_crossed_a0', 'type_freekick_short_a0', 'type_corner_crossed_a0', 'type_corner_short_a0', 'type_take_on_a0', 'type_foul_a0', 'type_tackle_a0', 'type_interception_a0', 'type_shot_a0', 'type_shot_penalty_a0', 'type_shot_freekick_a0', 'type_keeper_save_a0', 'type_keeper_claim_a0', 'type_keeper_punch_a0', 'type_keeper_pick_up_a0', 'type_clearance_a0', 'type_bad_touch_a0', 'type_non_action_a0', 'type_dribble_a0', 'type_goalkick_a0', 'type_receival_a0', 'type_out_a0', 'type_offside_a0', 'type_goal_a0', 'type_owngoal_a0', 'type_yellow_card_a0', 'type_red_card_a0', 'type_corner_a0', 'type_freekick_a0', 'type_pass_a1', 'type_cross_a1', 'type_throw_in_a1', 'type_freekick_crossed_a1', 'type_freekick_short_a1', 'type_corner_crossed_a1', 'type_corner_short_a1', 'type_take_on_a1', 'type_foul_a1', 'type_tackle_a1', 'type_interception_a1', 'type_shot_a1', 'type_shot_penalty_a1', 'type_shot_freekick_a1', 'type_keeper_save_a1', 'type_keeper_claim_a1', 'type_keeper_punch_a1', 'type_keeper_pick_up_a1', 'type_clearance_a1', 'type_bad_touch_a1', 'type_non_action_a1', 'type_dribble_a1', 'type_goalkick_a1', 'type_receival_a1', 'type_out_a1', 'type_offside_a1', 'type_goal_a1', 'type_owngoal_a1', 'type_yellow_card_a1', 'type_red_card_a1', 'type_corner_a1', 'type_freekick_a1', 'type_pass_a2', 'type_cross_a2', 'type_throw_in_a2', 'type_freekick_crossed_a2', 'type_freekick_short_a2', 'type_corner_crossed_a2', 'type_corner_short_a2', 'type_take_on_a2', 'type_foul_a2', 'type_tackle_a2', 'type_interception_a2', 'type_shot_a2', 'type_shot_penalty_a2', 'type_shot_freekick_a2', 'type_keeper_save_a2', 'type_keeper_claim_a2', 'type_keeper_punch_a2', 'type_keeper_pick_up_a2', 'type_clearance_a2', 'type_bad_touch_a2', 'type_non_action_a2', 'type_dribble_a2', 'type_goalkick_a2', 'type_receival_a2', 'type_out_a2', 'type_offside_a2', 'type_goal_a2', 'type_owngoal_a2', 'type_yellow_card_a2', 'type_red_card_a2', 'type_corner_a2', 'type_freekick_a2', 'bodypart_foot_a0', 'bodypart_head_a0', 'bodypart_other_a0', 'bodypart_foot_a1', 'bodypart_head_a1', 'bodypart_other_a1', 'bodypart_foot_a2', 'bodypart_head_a2', 'bodypart_other_a2', 'goalscore_team', 'goalscore_opponent', 'goalscore_diff', 'x_a0', 'y_a0', 'x_a1', 'y_a1', 'x_a2', 'y_a2', 'dist_to_goal_a0', 'angle_to_goal_a0', 'dist_to_goal_a1', 'angle_to_goal_a1', 'dist_to_goal_a2', 'angle_to_goal_a2', 'dx_a0', 'dy_a0', 'dx_a1', 'dy_a1', 'dx_a2', 'dy_a2', 'team_1', 'team_2', 'period_id_a0', 'time_seconds_a0', 'time_seconds_overall_a0', 'period_id_a1', 'time_seconds_a1', 'time_seconds_overall_a1', 'period_id_a2', 'time_seconds_a2', 'time_seconds_overall_a2', 'time_delta_1', 'time_delta_2']\n",
      "Y: ['scores', 'concedes']\n"
     ]
    }
   ],
   "source": [
    "# 1. Select feature set X\n",
    "xfns = [fs.actiontype_onehot,\n",
    "        fs.bodypart_onehot,\n",
    "        fs.goalscore,\n",
    "        fs.location,\n",
    "        fs.polar,\n",
    "        fs.direction,\n",
    "        fs.team,\n",
    "        fs.time,\n",
    "        fs.time_delta\n",
    "        ]\n",
    "nb_prev_actions = 3\n",
    "\n",
    "Xcols = fs.feature_column_names(xfns,nb_prev_actions)\n",
    "\n",
    "def getXY(games,Xcols):\n",
    "    # generate the columns of the selected feature\n",
    "    X = []\n",
    "    for game_id in tqdm(games.game_id,desc=\"selecting features\"):\n",
    "        Xi = pd.read_hdf(features_h5,f\"game_{game_id}\")\n",
    "        X.append(Xi[Xcols])\n",
    "    X = pd.concat(X).reset_index(drop=True)\n",
    "\n",
    "    # 2. Select label Y\n",
    "    Ycols = [\"scores\",\"concedes\"]\n",
    "    Y = []\n",
    "    for game_id in tqdm(games.game_id,desc=\"selecting label\"):\n",
    "        Yi = pd.read_hdf(labels_h5,f\"game_{game_id}\")\n",
    "        Y.append(Yi[Ycols])\n",
    "    Y = pd.concat(Y).reset_index(drop=True)\n",
    "    return X,Y\n",
    "\n",
    "X,Y = getXY(traingames,Xcols)\n",
    "print(\"X:\", list(X.columns))\n",
    "print(\"Y:\", list(Y.columns))\n",
    "X = X.fillna(0)"
   ]
  },
  {
   "cell_type": "code",
   "execution_count": 6,
   "metadata": {},
   "outputs": [
    {
     "name": "stdout",
     "output_type": "stream",
     "text": [
      "scores\n",
      "concedes\n",
      "CPU times: user 3min 18s, sys: 6.37 s, total: 3min 25s\n",
      "Wall time: 3min 14s\n"
     ]
    }
   ],
   "source": [
    "%%time\n",
    "# train classifiers F(X) = Y\n",
    "import xgboost\n",
    "\n",
    "Y_hat = pd.DataFrame()\n",
    "models = {}\n",
    "for col in list(Y.columns):\n",
    "    print(col)\n",
    "    model = xgboost.XGBClassifier(n_estimators=10,\n",
    "                                  max_depth=4,\n",
    "                                  n_jobs=-3)\n",
    "    model.fit(X,Y[col])\n",
    "    models[col] = model"
   ]
  },
  {
   "cell_type": "code",
   "execution_count": 7,
   "metadata": {},
   "outputs": [],
   "source": [
    "testX,testY = X,Y"
   ]
  },
  {
   "cell_type": "code",
   "execution_count": 8,
   "metadata": {},
   "outputs": [
    {
     "name": "stdout",
     "output_type": "stream",
     "text": [
      "Y: scores\n",
      "  Brier score: 0.00836 0.87953\n",
      "  log loss score: 0.05358 0.98944\n",
      "  ROC AUC: 0.88104\n",
      "Y: concedes\n",
      "  Brier score: 0.00141 1.31650\n",
      "  log loss score: 0.02653 3.15931\n",
      "  ROC AUC: 0.85989\n"
     ]
    }
   ],
   "source": [
    "from sklearn.metrics import brier_score_loss, roc_auc_score, log_loss\n",
    "\n",
    "def evaluate(y,y_hat):\n",
    "    p = sum(y)/len(y)\n",
    "    base = [p] * len(y)\n",
    "    brier = brier_score_loss(y,y_hat)\n",
    "    print(f\"  Brier score: %.5f %.5f\" % (brier,brier/brier_score_loss(y,base)))\n",
    "    ll = log_loss(y,y_hat)\n",
    "    print(f\"  log loss score: %.5f %.5f\" % (ll,ll/log_loss(y,base)))\n",
    "    print(f\"  ROC AUC: %.5f\" % roc_auc_score(y,y_hat))\n",
    "\n",
    "for col in testY.columns:\n",
    "    Y_hat[col] = [p[1] for p in models[col].predict_proba(testX)]\n",
    "    #Y_hat[col] = [p for p in models[col].predict(testX)]\n",
    "    print(f\"Y: {col}\")\n",
    "    evaluate(testY[col],Y_hat[col])"
   ]
  },
  {
   "cell_type": "markdown",
   "metadata": {},
   "source": [
    "### Save predictions"
   ]
  },
  {
   "cell_type": "code",
   "execution_count": 10,
   "metadata": {},
   "outputs": [
    {
     "data": {
      "application/vnd.jupyter.widget-view+json": {
       "model_id": "083bf480657044e0a691385e97988148",
       "version_major": 2,
       "version_minor": 0
      },
      "text/plain": [
       "HBox(children=(FloatProgress(value=0.0, description='loading game ids', max=452.0, style=ProgressStyle(descrip…"
      ]
     },
     "metadata": {},
     "output_type": "display_data"
    },
    {
     "name": "stdout",
     "output_type": "stream",
     "text": [
      "\n"
     ]
    },
    {
     "data": {
      "application/vnd.jupyter.widget-view+json": {
       "model_id": "033f7c60cc2d4ea8847bb465f1ba3cba",
       "version_major": 2,
       "version_minor": 0
      },
      "text/plain": [
       "HBox(children=(FloatProgress(value=0.0, description='saving predictions per game', max=452.0, style=ProgressSt…"
      ]
     },
     "metadata": {},
     "output_type": "display_data"
    },
    {
     "name": "stdout",
     "output_type": "stream",
     "text": [
      "\n"
     ]
    }
   ],
   "source": [
    "# get rows with game id per action\n",
    "A = []\n",
    "for game_id in tqdm(testgames.game_id,\"loading game ids\"):\n",
    "    Ai = pd.read_hdf(spadl_h5,f\"atomic_actions/game_{game_id}\")\n",
    "    A.append(Ai[[\"game_id\"]])\n",
    "A = pd.concat(A)\n",
    "A = A.reset_index(drop=True)\n",
    "\n",
    "# concatenate action game id rows with predictions and save per game\n",
    "grouped_predictions = pd.concat([A,Y_hat],axis=1).groupby(\"game_id\")\n",
    "for k,df in tqdm(grouped_predictions,desc=\"saving predictions per game\"):\n",
    "    df = df.reset_index(drop=True)\n",
    "    df[Y_hat.columns].to_hdf(predictions_h5,f\"game_{int(k)}\")"
   ]
  }
 ],
 "metadata": {
  "kernelspec": {
   "display_name": "env_statsbomb",
   "language": "python",
   "name": "env_statsbomb"
  },
  "language_info": {
   "codemirror_mode": {
    "name": "ipython",
    "version": 3
   },
   "file_extension": ".py",
   "mimetype": "text/x-python",
   "name": "python",
   "nbconvert_exporter": "python",
   "pygments_lexer": "ipython3",
   "version": "3.8.3"
  },
  "toc": {
   "base_numbering": 1,
   "nav_menu": {},
   "number_sections": true,
   "sideBar": true,
   "skip_h1_title": false,
   "title_cell": "Table of Contents",
   "title_sidebar": "Contents",
   "toc_cell": false,
   "toc_position": {},
   "toc_section_display": true,
   "toc_window_display": true
  },
  "varInspector": {
   "cols": {
    "lenName": 16,
    "lenType": 16,
    "lenVar": 40
   },
   "kernels_config": {
    "python": {
     "delete_cmd_postfix": "",
     "delete_cmd_prefix": "del ",
     "library": "var_list.py",
     "varRefreshCmd": "print(var_dic_list())"
    },
    "r": {
     "delete_cmd_postfix": ") ",
     "delete_cmd_prefix": "rm(",
     "library": "var_list.r",
     "varRefreshCmd": "cat(var_dic_list()) "
    }
   },
   "types_to_exclude": [
    "module",
    "function",
    "builtin_function_or_method",
    "instance",
    "_Feature"
   ],
   "window_display": false
  }
 },
 "nbformat": 4,
 "nbformat_minor": 2
}
