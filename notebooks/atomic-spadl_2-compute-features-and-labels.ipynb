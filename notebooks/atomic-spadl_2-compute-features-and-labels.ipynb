{
 "cells": [
  {
   "cell_type": "code",
   "execution_count": 1,
   "metadata": {},
   "outputs": [],
   "source": [
    "%load_ext autoreload\n",
    "%autoreload 2\n",
    "import os; import sys; sys.path.insert(0,'../')\n",
    "import pandas as pd\n",
    "from tqdm.auto import tqdm\n",
    "import warnings\n",
    "warnings.simplefilter(action='ignore', category=pd.errors.PerformanceWarning)"
   ]
  },
  {
   "cell_type": "code",
   "execution_count": 2,
   "metadata": {},
   "outputs": [],
   "source": [
    "import sys\n",
    "sys.path.insert(0, '../../')\n",
    "\n",
    "import atomic.features as fs\n",
    "import atomic.labels as lab"
   ]
  },
  {
   "cell_type": "code",
   "execution_count": 3,
   "metadata": {},
   "outputs": [],
   "source": [
    "## Configure file and folder names\n",
    "datafolder = \"../data/socceraction/\"\n",
    "spadl_h5 = os.path.join(datafolder,\"spadl-statsbomb.h5\")\n",
    "features_h5 = os.path.join(datafolder,\"atomic-features.h5\")\n",
    "labels_h5 = os.path.join(datafolder,\"atomic-labels.h5\")\n",
    "predictions_h5 = os.path.join(datafolder,\"atomic-predictions.h5\")"
   ]
  },
  {
   "cell_type": "code",
   "execution_count": 4,
   "metadata": {},
   "outputs": [
    {
     "name": "stdout",
     "output_type": "stream",
     "text": [
      "nb of games: 452\n"
     ]
    }
   ],
   "source": [
    "games = pd.read_hdf(spadl_h5,\"games\")\n",
    "\n",
    "print(\"nb of games:\", len(games))\n",
    "\n",
    "actiontypes = pd.read_hdf(spadl_h5, \"atomic_actiontypes\")\n",
    "bodyparts = pd.read_hdf(spadl_h5, \"bodyparts\")"
   ]
  },
  {
   "cell_type": "code",
   "execution_count": 5,
   "metadata": {},
   "outputs": [
    {
     "data": {
      "application/vnd.jupyter.widget-view+json": {
       "model_id": "71ea1a0b807b43eba60b6a27ffd6d05a",
       "version_major": 2,
       "version_minor": 0
      },
      "text/plain": [
       "HBox(children=(FloatProgress(value=0.0, description='Generating and storing features in ../data/socceraction/a…"
      ]
     },
     "metadata": {},
     "output_type": "display_data"
    },
    {
     "name": "stdout",
     "output_type": "stream",
     "text": [
      "\n"
     ]
    }
   ],
   "source": [
    "xfns = [fs.actiontype,\n",
    "       fs.actiontype_onehot,\n",
    "       fs.bodypart,\n",
    "       fs.bodypart_onehot,\n",
    "       fs.goalscore,\n",
    "       fs.location,\n",
    "       fs.polar,\n",
    "       fs.direction,\n",
    "       fs.team,\n",
    "       fs.time,\n",
    "       fs.time_delta\n",
    "      ]\n",
    "\n",
    "with pd.HDFStore(spadl_h5) as spadlstore, pd.HDFStore(features_h5) as featurestore:\n",
    "    for game in tqdm(list(games.itertuples()),desc=f\"Generating and storing features in {features_h5}\"):\n",
    "        actions = spadlstore[f\"atomic_actions/game_{game.game_id}\"]\n",
    "        actions = (\n",
    "            actions.merge(actiontypes,how=\"left\")\n",
    "            .merge(bodyparts,how=\"left\")\n",
    "            .reset_index(drop=True)\n",
    "        )\n",
    "        gamestates = fs.gamestates(actions, 3) # Taking 3 previous actions\n",
    "        gamestates = fs.play_left_to_right(gamestates,game.home_team_id)\n",
    "\n",
    "        X = pd.concat([fn(gamestates) for fn in xfns],axis=1)\n",
    "        featurestore[f\"game_{game.game_id}\"] = X"
   ]
  },
  {
   "cell_type": "code",
   "execution_count": 6,
   "metadata": {},
   "outputs": [
    {
     "data": {
      "application/vnd.jupyter.widget-view+json": {
       "model_id": "7627dbd2b4034c8e838532cc1341d352",
       "version_major": 2,
       "version_minor": 0
      },
      "text/plain": [
       "HBox(children=(FloatProgress(value=0.0, description='Computing and storing labels in ../data/socceraction/atom…"
      ]
     },
     "metadata": {},
     "output_type": "display_data"
    },
    {
     "name": "stdout",
     "output_type": "stream",
     "text": [
      "\n"
     ]
    }
   ],
   "source": [
    "yfns = [lab.scores,lab.concedes,lab.goal_from_shot]\n",
    "\n",
    "with pd.HDFStore(spadl_h5) as spadlstore, pd.HDFStore(labels_h5) as labelstore:\n",
    "    for game in tqdm(list(games.itertuples()),desc=f\"Computing and storing labels in {labels_h5}\"):\n",
    "        actions = spadlstore[f\"atomic_actions/game_{game.game_id}\"]\n",
    "        actions = (\n",
    "            actions.merge(actiontypes,how=\"left\")\n",
    "            .merge(bodyparts,how=\"left\")\n",
    "            .reset_index(drop=True)\n",
    "        )\n",
    "        Y = pd.concat([fn(actions) for fn in yfns],axis=1)\n",
    "        labelstore[f\"game_{game.game_id}\"] = Y"
   ]
  }
 ],
 "metadata": {
  "kernelspec": {
   "display_name": "env_statsbomb",
   "language": "python",
   "name": "env_statsbomb"
  },
  "language_info": {
   "codemirror_mode": {
    "name": "ipython",
    "version": 3
   },
   "file_extension": ".py",
   "mimetype": "text/x-python",
   "name": "python",
   "nbconvert_exporter": "python",
   "pygments_lexer": "ipython3",
   "version": "3.8.3"
  },
  "toc": {
   "base_numbering": 1,
   "nav_menu": {},
   "number_sections": true,
   "sideBar": true,
   "skip_h1_title": false,
   "title_cell": "Table of Contents",
   "title_sidebar": "Contents",
   "toc_cell": false,
   "toc_position": {},
   "toc_section_display": true,
   "toc_window_display": false
  },
  "varInspector": {
   "cols": {
    "lenName": 16,
    "lenType": 16,
    "lenVar": 40
   },
   "kernels_config": {
    "python": {
     "delete_cmd_postfix": "",
     "delete_cmd_prefix": "del ",
     "library": "var_list.py",
     "varRefreshCmd": "print(var_dic_list())"
    },
    "r": {
     "delete_cmd_postfix": ") ",
     "delete_cmd_prefix": "rm(",
     "library": "var_list.r",
     "varRefreshCmd": "cat(var_dic_list()) "
    }
   },
   "types_to_exclude": [
    "module",
    "function",
    "builtin_function_or_method",
    "instance",
    "_Feature"
   ],
   "window_display": false
  }
 },
 "nbformat": 4,
 "nbformat_minor": 2
}
